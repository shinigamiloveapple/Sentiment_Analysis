{
 "cells": [
  {
   "cell_type": "markdown",
   "id": "loose-abortion",
   "metadata": {},
   "source": [
    "# Spacy "
   ]
  },
  {
   "cell_type": "code",
   "execution_count": 3,
   "id": "square-index",
   "metadata": {},
   "outputs": [
    {
     "name": "stdout",
     "output_type": "stream",
     "text": [
      "Positive\n"
     ]
    }
   ],
   "source": [
    "import spacy\n",
    "from spacytextblob.spacytextblob import SpacyTextBlob\n",
    "\n",
    "\n",
    "def prediction(text):\n",
    "    nlp = spacy.load('en_core_web_sm')\n",
    "    spacy_text_blob = SpacyTextBlob()\n",
    "    nlp.add_pipe(spacy_text_blob)\n",
    "    doc = nlp(text)\n",
    "    polar = doc._.sentiment.polarity\n",
    "\n",
    "    def sentiment(polarity):\n",
    "        if doc._.sentiment.polarity > 0:\n",
    "            return 'Positive'\n",
    "        if doc._.sentiment.polarity == 0:\n",
    "            return 'Neutral'\n",
    "        if doc._.sentiment.polarity < 0:\n",
    "            return 'Negative'\n",
    "        \n",
    "\n",
    "    return(sentiment(polar))\n",
    "\n",
    "\n",
    "\n",
    "if __name__ == \"__main__\":\n",
    "    text = \"thanks\"\n",
    "\n",
    "print(prediction(text))"
   ]
  }
 ],
 "metadata": {
  "kernelspec": {
   "display_name": "Python [conda env:.conda-snake] *",
   "language": "python",
   "name": "conda-env-.conda-snake-py"
  },
  "language_info": {
   "codemirror_mode": {
    "name": "ipython",
    "version": 3
   },
   "file_extension": ".py",
   "mimetype": "text/x-python",
   "name": "python",
   "nbconvert_exporter": "python",
   "pygments_lexer": "ipython3",
   "version": "3.8.5"
  }
 },
 "nbformat": 4,
 "nbformat_minor": 5
}
